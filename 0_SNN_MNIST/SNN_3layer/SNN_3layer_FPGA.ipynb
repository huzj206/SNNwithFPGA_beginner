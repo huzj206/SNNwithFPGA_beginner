{
 "cells": [
  {
   "cell_type": "code",
   "execution_count": 1,
   "metadata": {},
   "outputs": [
    {
     "data": {
      "application/javascript": [
       "\n",
       "require(['notebook/js/codecell'], function(codecell) {\n",
       "  codecell.CodeCell.options_default.highlight_modes[\n",
       "      'magic_text/x-csrc'] = {'reg':[/^%%microblaze/]};\n",
       "  Jupyter.notebook.events.one('kernel_ready.Kernel', function(){\n",
       "      Jupyter.notebook.get_cells().map(function(cell){\n",
       "          if (cell.cell_type == 'code'){ cell.auto_highlight(); } }) ;\n",
       "  });\n",
       "});\n"
      ]
     },
     "metadata": {},
     "output_type": "display_data"
    }
   ],
   "source": [
    "import time\n",
    "from pynq import Overlay\n",
    "import pynq.lib.dma\n",
    "from pynq import Xlnk\n",
    "import numpy as np\n",
    "import random"
   ]
  },
  {
   "cell_type": "markdown",
   "metadata": {},
   "source": [
    "# Hardware Baseline Implementation of 3 layer SNN on ZYNQ SoC of PYNQ"
   ]
  },
  {
   "cell_type": "markdown",
   "metadata": {},
   "source": [
    "## Port SNN onto ZYNQ"
   ]
  },
  {
   "cell_type": "code",
   "execution_count": 2,
   "metadata": {},
   "outputs": [],
   "source": [
    "# Hardware Implementation\n",
    "ol = Overlay('lif3layer_final.bit') # check your path\n",
    "ol.download() # it downloads your bit to FPGA\n",
    "dma = ol.streamLIF.lif_dma # creating a dma instance\n",
    "xlnk = Xlnk()"
   ]
  },
  {
   "cell_type": "markdown",
   "metadata": {},
   "source": [
    "## Send the Input Spike Train to ZYNQ via DMA"
   ]
  },
  {
   "cell_type": "markdown",
   "metadata": {},
   "source": [
    "## Input Image - Digit 1"
   ]
  },
  {
   "cell_type": "code",
   "execution_count": 3,
   "metadata": {},
   "outputs": [],
   "source": [
    "length = 23520\n",
    "in_buffer = xlnk.cma_array(shape=(length,), dtype=np.float32) # input buffer\n",
    "out_buffer = xlnk.cma_array(shape=(10,), dtype=np.float32) # output buffer\n",
    "with open('st3.txt','r') as fp:\n",
    "    read_data = fp.read()\n",
    "read_data = read_data[:-1]\n",
    "read_data = read_data.replace('\\n', ' ')\n",
    "read_data_float = [float(each) for each in read_data.split(' ')]\n",
    "read_data_final = read_data_float[:23520]\n",
    "\n",
    "np.copyto(in_buffer, read_data_final) # copy samples to inout buffer"
   ]
  },
  {
   "cell_type": "code",
   "execution_count": 4,
   "metadata": {},
   "outputs": [
    {
     "name": "stdout",
     "output_type": "stream",
     "text": [
      "Input Spike Train Sent to Programmable Logic!\n",
      "Final Spikes Received from Programmable Logic!\n"
     ]
    }
   ],
   "source": [
    "t_start = time.time()\n",
    "dma.sendchannel.transfer(in_buffer)\n",
    "dma.recvchannel.transfer(out_buffer)\n",
    "dma.sendchannel.wait() # wait for send channel\n",
    "print('Input Spike Train Sent to Programmable Logic!')\n",
    "dma.recvchannel.wait() # wait for recv channel\n",
    "print('Final Spikes Received from Programmable Logic!')\n",
    "t_stop=time.time()\n",
    "in_buffer.close()\n",
    "out_buffer.close()\n",
    "                         \n",
    "spike_count_list = out_buffer.tolist()\n",
    "max_value = max(spike_count_list)\n",
    "winner = spike_count_list.index(max_value)"
   ]
  },
  {
   "cell_type": "code",
   "execution_count": 5,
   "metadata": {},
   "outputs": [
    {
     "name": "stdout",
     "output_type": "stream",
     "text": [
      "Obtained Spike Counts for Output Layer: [0.0, 24.0, 18.0, 13.0, 0.0, 0.0, 9.0, 10.0, 13.0, 5.0]\n",
      "Winner is: 1\n",
      "Hardware Execution Time on Zynq SoC: 0.19977831840515137 seconds\n"
     ]
    }
   ],
   "source": [
    "print('Obtained Spike Counts for Output Layer: '+ f\"{out_buffer.tolist()}\")\n",
    "print('Winner is: ' + f\"{winner}\")\n",
    "print('Hardware Execution Time on Zynq SoC: ' + f\"{t_stop - t_start}\" + ' seconds')"
   ]
  },
  {
   "cell_type": "code",
   "execution_count": null,
   "metadata": {},
   "outputs": [],
   "source": []
  },
  {
   "cell_type": "code",
   "execution_count": null,
   "metadata": {},
   "outputs": [],
   "source": []
  },
  {
   "cell_type": "code",
   "execution_count": null,
   "metadata": {},
   "outputs": [],
   "source": []
  },
  {
   "cell_type": "code",
   "execution_count": null,
   "metadata": {},
   "outputs": [],
   "source": []
  },
  {
   "cell_type": "markdown",
   "metadata": {},
   "source": [
    "# Optimized Implementation of 3 layer SNN on ZYNQ SoC of PYNQ"
   ]
  },
  {
   "cell_type": "markdown",
   "metadata": {},
   "source": [
    "## Port SNN onto ZYNQ"
   ]
  },
  {
   "cell_type": "code",
   "execution_count": null,
   "metadata": {},
   "outputs": [],
   "source": [
    "# Hardware Implementation\n",
    "ol = Overlay('lif_3layer_optimized.bit') # check your path\n",
    "ol.download() # it downloads your bit to FPGA\n",
    "dma = ol.streamLIF.lif_dma # creating a dma instance\n",
    "xlnk = Xlnk()"
   ]
  },
  {
   "cell_type": "markdown",
   "metadata": {},
   "source": [
    "## Send the Input Spike Train to ZYNQ via DMA"
   ]
  },
  {
   "cell_type": "markdown",
   "metadata": {},
   "source": [
    "## Input Image - Digit 1"
   ]
  },
  {
   "cell_type": "code",
   "execution_count": null,
   "metadata": {},
   "outputs": [],
   "source": [
    "length = 23520\n",
    "in_buffer = xlnk.cma_array(shape=(length,), dtype=np.float32) # input buffer\n",
    "out_buffer = xlnk.cma_array(shape=(10,), dtype=np.float32) # output buffer\n",
    "with open('st3.txt','r') as fp:\n",
    "    read_data = fp.read()\n",
    "read_data = read_data[:-1]\n",
    "read_data = read_data.replace('\\n', ' ')\n",
    "read_data_float = [float(each) for each in read_data.split(' ')]\n",
    "read_data_final = read_data_float[:23520]\n",
    "\n",
    "np.copyto(in_buffer, read_data_final) # copy samples to inout buffer"
   ]
  },
  {
   "cell_type": "code",
   "execution_count": null,
   "metadata": {},
   "outputs": [],
   "source": [
    "t_start = time.time()\n",
    "dma.sendchannel.transfer(in_buffer)\n",
    "dma.recvchannel.transfer(out_buffer)\n",
    "dma.sendchannel.wait() # wait for send channel\n",
    "print('Input Spike Train Sent to Programmable Logic!')\n",
    "dma.recvchannel.wait() # wait for recv channel\n",
    "print('Final Spikes Received from Programmable Logic!')\n",
    "t_stop=time.time()\n",
    "in_buffer.close()\n",
    "out_buffer.close()\n",
    "                         \n",
    "spike_count_list = out_buffer.tolist()\n",
    "max_value = max(spike_count_list)\n",
    "winner = spike_count_list.index(max_value)"
   ]
  },
  {
   "cell_type": "code",
   "execution_count": null,
   "metadata": {},
   "outputs": [],
   "source": [
    "print('Obtained Spike Counts for Output Layer: '+ f\"{out_buffer.tolist()}\")\n",
    "print('Winner is: ' + f\"{winner}\")\n",
    "print('Hardware Execution Time on Zynq SoC: ' + f\"{t_stop - t_start}\" + ' seconds')"
   ]
  },
  {
   "cell_type": "code",
   "execution_count": null,
   "metadata": {},
   "outputs": [],
   "source": []
  },
  {
   "cell_type": "code",
   "execution_count": null,
   "metadata": {},
   "outputs": [],
   "source": []
  },
  {
   "cell_type": "code",
   "execution_count": null,
   "metadata": {},
   "outputs": [],
   "source": []
  },
  {
   "cell_type": "code",
   "execution_count": null,
   "metadata": {},
   "outputs": [],
   "source": [
    "length = 23520\n",
    "in_buffer = xlnk.cma_array(shape=(length,), dtype=np.float32) # input buffer\n",
    "out_buffer = xlnk.cma_array(shape=(10,), dtype=np.float32) # output buffer\n",
    "with open('st2.txt','r') as fp:\n",
    "    read_data = fp.read()\n",
    "read_data = read_data[:-1]\n",
    "read_data = read_data.replace('\\n', ' ')\n",
    "read_data_float = [float(each) for each in read_data.split(' ')]\n",
    "read_data_final = read_data_float[:23520]\n",
    "\n",
    "np.copyto(in_buffer, read_data_final) # copy samples to inout buffer"
   ]
  },
  {
   "cell_type": "code",
   "execution_count": null,
   "metadata": {},
   "outputs": [],
   "source": [
    "t_start = time.time()\n",
    "print(t_start)\n",
    "dma.sendchannel.transfer(in_buffer)\n",
    "dma.recvchannel.transfer(out_buffer)\n",
    "dma.sendchannel.wait() # wait for send channel\n",
    "print('Input Spike Train Sent to Programmable Logic!')\n",
    "dma.recvchannel.wait() # wait for recv channel\n",
    "print('Final Spikes Received from Programmable Logic!')\n",
    "t_stop=time.time()\n",
    "in_buffer.close()\n",
    "out_buffer.close()\n",
    "                         \n",
    "print('Hardware execution time: ', t_stop-t_start)"
   ]
  },
  {
   "cell_type": "code",
   "execution_count": null,
   "metadata": {},
   "outputs": [],
   "source": [
    "print(out_buffer)"
   ]
  },
  {
   "cell_type": "code",
   "execution_count": null,
   "metadata": {},
   "outputs": [],
   "source": [
    "length = 23520\n",
    "in_buffer = xlnk.cma_array(shape=(length,), dtype=np.float32) # input buffer\n",
    "out_buffer = xlnk.cma_array(shape=(10,), dtype=np.float32) # output buffer\n",
    "with open('st3.txt','r') as fp:\n",
    "    read_data = fp.read()\n",
    "read_data = read_data[:-1]\n",
    "read_data = read_data.replace('\\n', ' ')\n",
    "read_data_float = [float(each) for each in read_data.split(' ')]\n",
    "read_data_final = read_data_float[:23520]\n",
    "\n",
    "np.copyto(in_buffer, read_data_final) # copy samples to inout buffer"
   ]
  },
  {
   "cell_type": "code",
   "execution_count": null,
   "metadata": {},
   "outputs": [],
   "source": [
    "t_start = time.time()\n",
    "print(t_start)\n",
    "dma.sendchannel.transfer(in_buffer)\n",
    "dma.recvchannel.transfer(out_buffer)\n",
    "dma.sendchannel.wait() # wait for send channel\n",
    "print('Input Spike Train Sent to Programmable Logic!')\n",
    "dma.recvchannel.wait() # wait for recv channel\n",
    "print('Final Spikes Received from Programmable Logic!')\n",
    "t_stop=time.time()\n",
    "in_buffer.close()\n",
    "out_buffer.close()\n",
    "                         \n",
    "print('Hardware execution time: ', t_stop-t_start)"
   ]
  },
  {
   "cell_type": "code",
   "execution_count": null,
   "metadata": {},
   "outputs": [],
   "source": [
    "print(out_buffer)"
   ]
  },
  {
   "cell_type": "code",
   "execution_count": null,
   "metadata": {},
   "outputs": [],
   "source": [
    "length = 23520\n",
    "in_buffer = xlnk.cma_array(shape=(length,), dtype=np.float32) # input buffer\n",
    "out_buffer = xlnk.cma_array(shape=(10,), dtype=np.float32) # output buffer\n",
    "with open('st4.txt','r') as fp:\n",
    "    read_data = fp.read()\n",
    "read_data = read_data[:-1]\n",
    "read_data = read_data.replace('\\n', ' ')\n",
    "read_data_float = [float(each) for each in read_data.split(' ')]\n",
    "read_data_final = read_data_float[:23520]\n",
    "\n",
    "np.copyto(in_buffer, read_data_final) # copy samples to inout buffer"
   ]
  },
  {
   "cell_type": "code",
   "execution_count": null,
   "metadata": {},
   "outputs": [],
   "source": [
    "t_start = time.time()\n",
    "print(t_start)\n",
    "dma.sendchannel.transfer(in_buffer)\n",
    "dma.recvchannel.transfer(out_buffer)\n",
    "dma.sendchannel.wait() # wait for send channel\n",
    "print('Input Spike Train Sent to Programmable Logic!')\n",
    "dma.recvchannel.wait() # wait for recv channel\n",
    "print('Final Spikes Received from Programmable Logic!')\n",
    "t_stop=time.time()\n",
    "in_buffer.close()\n",
    "out_buffer.close()\n",
    "                         \n",
    "print('Hardware execution time: ', t_stop-t_start)"
   ]
  },
  {
   "cell_type": "code",
   "execution_count": null,
   "metadata": {},
   "outputs": [],
   "source": [
    "print(out_buffer)"
   ]
  },
  {
   "cell_type": "code",
   "execution_count": null,
   "metadata": {},
   "outputs": [],
   "source": []
  }
 ],
 "metadata": {
  "kernelspec": {
   "display_name": "Python 3",
   "language": "python",
   "name": "python3"
  },
  "language_info": {
   "codemirror_mode": {
    "name": "ipython",
    "version": 3
   },
   "file_extension": ".py",
   "mimetype": "text/x-python",
   "name": "python",
   "nbconvert_exporter": "python",
   "pygments_lexer": "ipython3",
   "version": "3.6.5"
  }
 },
 "nbformat": 4,
 "nbformat_minor": 2
}
