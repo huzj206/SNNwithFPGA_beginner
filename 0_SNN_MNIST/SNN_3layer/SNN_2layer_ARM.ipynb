{
 "cells": [
  {
   "cell_type": "code",
   "execution_count": 1,
   "metadata": {},
   "outputs": [],
   "source": [
    "import time\n",
    "import numpy as np\n",
    "import random"
   ]
  },
  {
   "cell_type": "markdown",
   "metadata": {},
   "source": [
    "# Software Implementation of 2 layer SNN on ARM A9 of PYNQ"
   ]
  },
  {
   "cell_type": "markdown",
   "metadata": {},
   "source": [
    "## Classification of Input Image of Digit 3"
   ]
  },
  {
   "cell_type": "code",
   "execution_count": 2,
   "metadata": {},
   "outputs": [],
   "source": [
    "from neuron import neuron\n",
    "\n",
    "global time_internal, T, dt, t_back, t_fore, w_min\n",
    "T = 100\n",
    "time_internal  = np.arange(1, T+1, 1)\n",
    "t_back = -20\n",
    "t_fore = 20\n",
    "Pth = 150 \n",
    "#Number of neurons in first layer\n",
    "m=784\n",
    "#Number of neurons in second layer\n",
    "n = 8 \n",
    "epoch = 1\n",
    "num_of_images = 6\n",
    "w_max = 0.5\n",
    "w_min = -0.5\n",
    "\n",
    "layer2 = []\n",
    "#Creating the hidden layer of neurons\n",
    "for i in range(n):\n",
    "    a = neuron()\n",
    "    layer2.append(a)\n",
    "\n",
    "#Synapse matrix - contains the weights for the 784 x 8 neuron connections\n",
    "synapse = np.zeros((n,m))\n",
    "\n",
    "#Initialize the weights\n",
    "fname = \"weights.txt\"\n",
    "with open(fname) as f :\n",
    "    lines_temp = f.readlines()\n",
    "for ind_new in range(n):\n",
    "    synapse[ind_new] = list(map(float, lines_temp[ind_new].split(' ')))\n",
    "    \n",
    "for k in range(epoch):\n",
    "    for i in range(4,5):\n",
    "        tstart=time.time()\n",
    "        spike_count = np.zeros((n,1))\n",
    "\n",
    "#Initialize the potentials of output neurons\n",
    "        for x in layer2:\n",
    "            x.initial()\n",
    "\n",
    "        train = np.zeros((784,101))\n",
    "        filen = \"100strain\"+str(i)+\".txt\"\n",
    "        text_file = open(filen, \"r\")\n",
    "        lines = text_file.read().split(' ')\n",
    "        var = 0\n",
    "        for ind_1 in range(784):\n",
    "            for ind_2 in range(101):\n",
    "                train[ind_1][ind_2] = float(lines[var])\n",
    "                var+=1\n",
    "\n",
    "        f_spike = 0\n",
    "        active_pot = np.zeros((n,1))\n",
    "        for t in time_internal:\n",
    "            for j, x in enumerate(layer2):\n",
    "                active = []\n",
    "\n",
    "#Update potential if not in refractory period\n",
    "                if(x.t_rest<t):\n",
    "                    dot_prod = sum(mul1*mul2 for mul1,mul2 in zip(synapse[j],train[:,t]))\n",
    "                    x.P = x.P + dot_prod\n",
    "                    if(x.P>x.Prest):\n",
    "                        x.P -= x.D\n",
    "                    active_pot[j] = x.P\n",
    "\n",
    "# Lateral Inhibition\n",
    "            if(f_spike==0):\n",
    "                high_pot = max(active_pot)\n",
    "                if(high_pot>Pth):\n",
    "                    f_spike = 1\n",
    "                    winner = np.argmax(active_pot)\n",
    "                    for s in range(n):\n",
    "                        if(s!=winner):\n",
    "                            layer2[s].P = layer2[s].Pmin\n",
    "\n",
    "#Check for spikes\n",
    "            for j,x in enumerate(layer2):\n",
    "                s = x.check()\n",
    "                if(s==1):\n",
    "                    spike_count[j] += 1\n",
    "                    x.t_rest = t + x.t_ref\n",
    "        tstop = time.time()\n",
    "        spike_count = spike_count.T[0]\n",
    "        spike_count = [int(each) for each in spike_count]\n",
    "        \n",
    "        max_value = max(spike_count)\n",
    "        winner = spike_count.index(max_value)"
   ]
  },
  {
   "cell_type": "code",
   "execution_count": 3,
   "metadata": {},
   "outputs": [
    {
     "name": "stdout",
     "output_type": "stream",
     "text": [
      "Obtained Spike Counts for Output Layer: [0, 0, 6, 13, 0, 7, 0, 0]\n",
      "Winner is: 3\n",
      "Software Execution Time on ARM A9: 3.242896318435669 seconds\n"
     ]
    }
   ],
   "source": [
    "print('Obtained Spike Counts for Output Layer: '+ f\"{spike_count}\")\n",
    "print('Winner is: ' + f\"{winner}\")\n",
    "print('Software Execution Time on ARM A9: ' + f\"{tstop - tstart}\" + ' seconds')"
   ]
  },
  {
   "cell_type": "markdown",
   "metadata": {},
   "source": [
    "## Classification of Input Image of Digit 5"
   ]
  },
  {
   "cell_type": "code",
   "execution_count": 4,
   "metadata": {},
   "outputs": [],
   "source": [
    "from neuron import neuron\n",
    "\n",
    "global time_internal, T, dt, t_back, t_fore, w_min\n",
    "T = 100\n",
    "time_internal  = np.arange(1, T+1, 1)\n",
    "t_back = -20\n",
    "t_fore = 20\n",
    "Pth = 150 \n",
    "#Number of neurons in first layer\n",
    "m=784\n",
    "#Number of neurons in second layer\n",
    "n = 8 \n",
    "epoch = 1\n",
    "num_of_images = 6\n",
    "w_max = 0.5\n",
    "w_min = -0.5\n",
    "\n",
    "layer2 = []\n",
    "#Creating the hidden layer of neurons\n",
    "for i in range(n):\n",
    "    a = neuron()\n",
    "    layer2.append(a)\n",
    "\n",
    "#Synapse matrix - contains the weights for the 784 x 8 neuron connections\n",
    "synapse = np.zeros((n,m))\n",
    "\n",
    "#Initialize the weights\n",
    "fname = \"weights.txt\"\n",
    "with open(fname) as f :\n",
    "    lines_temp = f.readlines()\n",
    "for ind_new in range(n):\n",
    "    synapse[ind_new] = list(map(float, lines_temp[ind_new].split(' ')))\n",
    "    \n",
    "for k in range(epoch):\n",
    "    for i in range(6,7):\n",
    "        tstart=time.time()\n",
    "        spike_count = np.zeros((n,1))\n",
    "\n",
    "#Initialize the potentials of output neurons\n",
    "        for x in layer2:\n",
    "            x.initial()\n",
    "\n",
    "        train = np.zeros((784,101))\n",
    "        filen = \"100strain\"+str(i)+\".txt\"\n",
    "        text_file = open(filen, \"r\")\n",
    "        lines = text_file.read().split(' ')\n",
    "        var = 0\n",
    "        for ind_1 in range(784):\n",
    "            for ind_2 in range(101):\n",
    "                train[ind_1][ind_2] = float(lines[var])\n",
    "                var+=1\n",
    "\n",
    "        f_spike = 0\n",
    "        active_pot = np.zeros((n,1))\n",
    "        for t in time_internal:\n",
    "            for j, x in enumerate(layer2):\n",
    "                active = []\n",
    "\n",
    "#Update potential if not in refractory period\n",
    "                if(x.t_rest<t):\n",
    "                    dot_prod = sum(mul1*mul2 for mul1,mul2 in zip(synapse[j],train[:,t]))\n",
    "                    x.P = x.P + dot_prod\n",
    "                    if(x.P>x.Prest):\n",
    "                        x.P -= x.D\n",
    "                    active_pot[j] = x.P\n",
    "\n",
    "# Lateral Inhibition\n",
    "            if(f_spike==0):\n",
    "                high_pot = max(active_pot)\n",
    "                if(high_pot>Pth):\n",
    "                    f_spike = 1\n",
    "                    winner = np.argmax(active_pot)\n",
    "                    for s in range(n):\n",
    "                        if(s!=winner):\n",
    "                            layer2[s].P = layer2[s].Pmin\n",
    "\n",
    "#Check for spikes\n",
    "            for j,x in enumerate(layer2):\n",
    "                s = x.check()\n",
    "                if(s==1):\n",
    "                    spike_count[j] += 1\n",
    "                    x.t_rest = t + x.t_ref\n",
    "        tstop = time.time()\n",
    "        spike_count = spike_count.T[0]\n",
    "        spike_count = [int(each) for each in spike_count]\n",
    "        \n",
    "        max_value = max(spike_count)\n",
    "        winner = spike_count.index(max_value)"
   ]
  },
  {
   "cell_type": "code",
   "execution_count": 5,
   "metadata": {},
   "outputs": [
    {
     "name": "stdout",
     "output_type": "stream",
     "text": [
      "Obtained Spike Counts for Output Layer: [6, 0, 0, 8, 0, 13, 0, 0]\n",
      "Winner is: 5\n",
      "Software Execution Time on ARM A9: 3.292792797088623 seconds\n"
     ]
    }
   ],
   "source": [
    "print('Obtained Spike Counts for Output Layer: '+ f\"{spike_count}\")\n",
    "print('Winner is: ' + f\"{winner}\")\n",
    "print('Software Execution Time on ARM A9: ' + f\"{tstop - tstart}\" + ' seconds')"
   ]
  },
  {
   "cell_type": "code",
   "execution_count": null,
   "metadata": {},
   "outputs": [],
   "source": []
  },
  {
   "cell_type": "code",
   "execution_count": null,
   "metadata": {},
   "outputs": [],
   "source": []
  },
  {
   "cell_type": "code",
   "execution_count": null,
   "metadata": {},
   "outputs": [],
   "source": []
  },
  {
   "cell_type": "code",
   "execution_count": null,
   "metadata": {},
   "outputs": [],
   "source": []
  },
  {
   "cell_type": "code",
   "execution_count": null,
   "metadata": {},
   "outputs": [],
   "source": []
  },
  {
   "cell_type": "code",
   "execution_count": null,
   "metadata": {},
   "outputs": [],
   "source": [
    "from pynq import Overlay\n",
    "import pynq.lib.dma\n",
    "from pynq import Xlnk"
   ]
  },
  {
   "cell_type": "code",
   "execution_count": null,
   "metadata": {},
   "outputs": [],
   "source": [
    "# Hardware Implementation\n",
    "ol = Overlay('complete_design1.bit') # check your path\n",
    "ol.download() # it downloads your bit to FPGA\n",
    "dma = ol.streamLIF.lif_dma # creating a dma instance\n",
    "xlnk = Xlnk()"
   ]
  },
  {
   "cell_type": "code",
   "execution_count": null,
   "metadata": {},
   "outputs": [],
   "source": [
    "# length=157584\n",
    "length = 79184\n",
    "in_buffer = xlnk.cma_array(shape=(length,), dtype=np.float32) # input buffer\n",
    "out_buffer = xlnk.cma_array(shape=(8,), dtype=np.float32) # output buffer\n",
    "with open('100strain1.txt','r') as fp:\n",
    "    read_data = fp.read()\n",
    "read_data_float = [float(each) for each in read_data.split(' ')]\n",
    "read_data_final = read_data_float[:79184]\n",
    "\n",
    "np.copyto(in_buffer, read_data_final) # copy samples to inout buffer"
   ]
  },
  {
   "cell_type": "code",
   "execution_count": null,
   "metadata": {},
   "outputs": [],
   "source": [
    "t_start = time.time()\n",
    "print(t_start)\n",
    "dma.sendchannel.transfer(in_buffer)\n",
    "dma.recvchannel.transfer(out_buffer)\n",
    "dma.sendchannel.wait() # wait for send channel\n",
    "print('Input Spike Train Sent to Programmable Logic!')\n",
    "dma.recvchannel.wait() # wait for recv channel\n",
    "print('Final Spikes Received from Programmable Logic!')\n",
    "t_stop=time.time()\n",
    "in_buffer.close()\n",
    "out_buffer.close()\n",
    "                         \n",
    "print('Hardware execution time: ', t_stop-t_start)\n",
    "                         \n",
    "# for i in range(1000):\n",
    "#     print(out_buffer[i])"
   ]
  },
  {
   "cell_type": "code",
   "execution_count": null,
   "metadata": {},
   "outputs": [],
   "source": []
  },
  {
   "cell_type": "code",
   "execution_count": null,
   "metadata": {},
   "outputs": [],
   "source": []
  }
 ],
 "metadata": {
  "kernelspec": {
   "display_name": "Python 3",
   "language": "python",
   "name": "python3"
  },
  "language_info": {
   "codemirror_mode": {
    "name": "ipython",
    "version": 3
   },
   "file_extension": ".py",
   "mimetype": "text/x-python",
   "name": "python",
   "nbconvert_exporter": "python",
   "pygments_lexer": "ipython3",
   "version": "3.6.5"
  }
 },
 "nbformat": 4,
 "nbformat_minor": 2
}
